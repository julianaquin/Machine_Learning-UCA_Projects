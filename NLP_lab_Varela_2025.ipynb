{
  "cells": [
    {
      "cell_type": "markdown",
      "source": [
        "# NLP LAB\n",
        "\n",
        "###Juliana Varela"
      ],
      "metadata": {
        "id": "GU8Mxye6JyF5"
      }
    },
    {
      "cell_type": "markdown",
      "metadata": {
        "id": "9LTptihas5Hv"
      },
      "source": [
        "Imports"
      ]
    },
    {
      "cell_type": "code",
      "execution_count": 1,
      "metadata": {
        "colab": {
          "base_uri": "https://localhost:8080/"
        },
        "id": "keqyDjm7_pul",
        "outputId": "dded2ae7-5cbe-4844-b1cb-0721004fc1d5"
      },
      "outputs": [
        {
          "output_type": "stream",
          "name": "stdout",
          "text": [
            "Collecting emoji\n",
            "  Downloading emoji-2.14.0-py3-none-any.whl.metadata (5.7 kB)\n",
            "Downloading emoji-2.14.0-py3-none-any.whl (586 kB)\n",
            "\u001b[2K   \u001b[90m━━━━━━━━━━━━━━━━━━━━━━━━━━━━━━━━━━━━━━━━\u001b[0m \u001b[32m586.9/586.9 kB\u001b[0m \u001b[31m6.0 MB/s\u001b[0m eta \u001b[36m0:00:00\u001b[0m\n",
            "\u001b[?25hInstalling collected packages: emoji\n",
            "Successfully installed emoji-2.14.0\n"
          ]
        }
      ],
      "source": [
        "pip install emoji --upgrade"
      ]
    },
    {
      "cell_type": "markdown",
      "metadata": {
        "id": "jSwYTIKPHQKS"
      },
      "source": [
        "We will be using sklearn since it allows fine tuning of the preprocessing"
      ]
    },
    {
      "cell_type": "code",
      "execution_count": 2,
      "metadata": {
        "id": "w1-wXontqhsm"
      },
      "outputs": [],
      "source": [
        "import numpy as np\n",
        "import pandas as pd\n",
        "\n",
        "import re\n",
        "import emoji\n",
        "\n",
        "import nltk\n",
        "\n",
        "from nltk.corpus import words,stopwords\n",
        "from sklearn.pipeline import Pipeline\n",
        "from sklearn.feature_extraction.text import TfidfVectorizer\n",
        "from sklearn.linear_model import LogisticRegression\n",
        "from sklearn.metrics import f1_score, classification_report\n",
        "from sklearn.model_selection import GridSearchCV"
      ]
    },
    {
      "cell_type": "markdown",
      "metadata": {
        "id": "Uxa_kLVls6mk"
      },
      "source": [
        "##Data processing"
      ]
    },
    {
      "cell_type": "code",
      "execution_count": 3,
      "metadata": {
        "id": "A2vOb52lqbOC"
      },
      "outputs": [],
      "source": [
        "TRAIN = pd.read_csv(\"http://www.i3s.unice.fr/~riveill/dataset/Amazon_Unlocked_Mobile/train.csv.gz\")\n",
        "TEST = pd.read_csv(\"http://www.i3s.unice.fr/~riveill/dataset/Amazon_Unlocked_Mobile/test.csv.gz\")"
      ]
    },
    {
      "cell_type": "code",
      "execution_count": 4,
      "metadata": {
        "colab": {
          "base_uri": "https://localhost:8080/",
          "height": 276
        },
        "id": "zhdc5O7u8lJF",
        "outputId": "e47d73d4-ae62-4b11-a68c-009fdcfcd5ce"
      },
      "outputs": [
        {
          "output_type": "execute_result",
          "data": {
            "text/plain": [
              "                                        Product Name Brand Name   Price  \\\n",
              "0  Samsung Galaxy Note 4 N910C Unlocked Cellphone...    Samsung  449.99   \n",
              "1  BLU Energy X Plus Smartphone - With 4000 mAh S...        BLU  139.00   \n",
              "2                   Apple iPhone 6 128GB Silver AT&T      Apple  599.95   \n",
              "3  BLU Advance 4.0L Unlocked Smartphone -US GSM -...        BLU   51.99   \n",
              "4  Huawei P8 Lite US Version- 5 Unlocked Android ...     Huawei  198.99   \n",
              "\n",
              "   Rating                                            Reviews  Review Votes  \n",
              "0       4             I love it!!! I absolutely love it!! 👌👍           0.0  \n",
              "1       5  I love the BLU phones! This is my second one t...           4.0  \n",
              "2       5                                        Great phone           1.0  \n",
              "3       4  Very happy with the performance. The apps work...           2.0  \n",
              "4       5                            Easy to use great price           0.0  "
            ],
            "text/html": [
              "\n",
              "  <div id=\"df-ec03498c-ff39-4a4c-b4d1-98ad19409344\" class=\"colab-df-container\">\n",
              "    <div>\n",
              "<style scoped>\n",
              "    .dataframe tbody tr th:only-of-type {\n",
              "        vertical-align: middle;\n",
              "    }\n",
              "\n",
              "    .dataframe tbody tr th {\n",
              "        vertical-align: top;\n",
              "    }\n",
              "\n",
              "    .dataframe thead th {\n",
              "        text-align: right;\n",
              "    }\n",
              "</style>\n",
              "<table border=\"1\" class=\"dataframe\">\n",
              "  <thead>\n",
              "    <tr style=\"text-align: right;\">\n",
              "      <th></th>\n",
              "      <th>Product Name</th>\n",
              "      <th>Brand Name</th>\n",
              "      <th>Price</th>\n",
              "      <th>Rating</th>\n",
              "      <th>Reviews</th>\n",
              "      <th>Review Votes</th>\n",
              "    </tr>\n",
              "  </thead>\n",
              "  <tbody>\n",
              "    <tr>\n",
              "      <th>0</th>\n",
              "      <td>Samsung Galaxy Note 4 N910C Unlocked Cellphone...</td>\n",
              "      <td>Samsung</td>\n",
              "      <td>449.99</td>\n",
              "      <td>4</td>\n",
              "      <td>I love it!!! I absolutely love it!! 👌👍</td>\n",
              "      <td>0.0</td>\n",
              "    </tr>\n",
              "    <tr>\n",
              "      <th>1</th>\n",
              "      <td>BLU Energy X Plus Smartphone - With 4000 mAh S...</td>\n",
              "      <td>BLU</td>\n",
              "      <td>139.00</td>\n",
              "      <td>5</td>\n",
              "      <td>I love the BLU phones! This is my second one t...</td>\n",
              "      <td>4.0</td>\n",
              "    </tr>\n",
              "    <tr>\n",
              "      <th>2</th>\n",
              "      <td>Apple iPhone 6 128GB Silver AT&amp;T</td>\n",
              "      <td>Apple</td>\n",
              "      <td>599.95</td>\n",
              "      <td>5</td>\n",
              "      <td>Great phone</td>\n",
              "      <td>1.0</td>\n",
              "    </tr>\n",
              "    <tr>\n",
              "      <th>3</th>\n",
              "      <td>BLU Advance 4.0L Unlocked Smartphone -US GSM -...</td>\n",
              "      <td>BLU</td>\n",
              "      <td>51.99</td>\n",
              "      <td>4</td>\n",
              "      <td>Very happy with the performance. The apps work...</td>\n",
              "      <td>2.0</td>\n",
              "    </tr>\n",
              "    <tr>\n",
              "      <th>4</th>\n",
              "      <td>Huawei P8 Lite US Version- 5 Unlocked Android ...</td>\n",
              "      <td>Huawei</td>\n",
              "      <td>198.99</td>\n",
              "      <td>5</td>\n",
              "      <td>Easy to use great price</td>\n",
              "      <td>0.0</td>\n",
              "    </tr>\n",
              "  </tbody>\n",
              "</table>\n",
              "</div>\n",
              "    <div class=\"colab-df-buttons\">\n",
              "\n",
              "  <div class=\"colab-df-container\">\n",
              "    <button class=\"colab-df-convert\" onclick=\"convertToInteractive('df-ec03498c-ff39-4a4c-b4d1-98ad19409344')\"\n",
              "            title=\"Convert this dataframe to an interactive table.\"\n",
              "            style=\"display:none;\">\n",
              "\n",
              "  <svg xmlns=\"http://www.w3.org/2000/svg\" height=\"24px\" viewBox=\"0 -960 960 960\">\n",
              "    <path d=\"M120-120v-720h720v720H120Zm60-500h600v-160H180v160Zm220 220h160v-160H400v160Zm0 220h160v-160H400v160ZM180-400h160v-160H180v160Zm440 0h160v-160H620v160ZM180-180h160v-160H180v160Zm440 0h160v-160H620v160Z\"/>\n",
              "  </svg>\n",
              "    </button>\n",
              "\n",
              "  <style>\n",
              "    .colab-df-container {\n",
              "      display:flex;\n",
              "      gap: 12px;\n",
              "    }\n",
              "\n",
              "    .colab-df-convert {\n",
              "      background-color: #E8F0FE;\n",
              "      border: none;\n",
              "      border-radius: 50%;\n",
              "      cursor: pointer;\n",
              "      display: none;\n",
              "      fill: #1967D2;\n",
              "      height: 32px;\n",
              "      padding: 0 0 0 0;\n",
              "      width: 32px;\n",
              "    }\n",
              "\n",
              "    .colab-df-convert:hover {\n",
              "      background-color: #E2EBFA;\n",
              "      box-shadow: 0px 1px 2px rgba(60, 64, 67, 0.3), 0px 1px 3px 1px rgba(60, 64, 67, 0.15);\n",
              "      fill: #174EA6;\n",
              "    }\n",
              "\n",
              "    .colab-df-buttons div {\n",
              "      margin-bottom: 4px;\n",
              "    }\n",
              "\n",
              "    [theme=dark] .colab-df-convert {\n",
              "      background-color: #3B4455;\n",
              "      fill: #D2E3FC;\n",
              "    }\n",
              "\n",
              "    [theme=dark] .colab-df-convert:hover {\n",
              "      background-color: #434B5C;\n",
              "      box-shadow: 0px 1px 3px 1px rgba(0, 0, 0, 0.15);\n",
              "      filter: drop-shadow(0px 1px 2px rgba(0, 0, 0, 0.3));\n",
              "      fill: #FFFFFF;\n",
              "    }\n",
              "  </style>\n",
              "\n",
              "    <script>\n",
              "      const buttonEl =\n",
              "        document.querySelector('#df-ec03498c-ff39-4a4c-b4d1-98ad19409344 button.colab-df-convert');\n",
              "      buttonEl.style.display =\n",
              "        google.colab.kernel.accessAllowed ? 'block' : 'none';\n",
              "\n",
              "      async function convertToInteractive(key) {\n",
              "        const element = document.querySelector('#df-ec03498c-ff39-4a4c-b4d1-98ad19409344');\n",
              "        const dataTable =\n",
              "          await google.colab.kernel.invokeFunction('convertToInteractive',\n",
              "                                                    [key], {});\n",
              "        if (!dataTable) return;\n",
              "\n",
              "        const docLinkHtml = 'Like what you see? Visit the ' +\n",
              "          '<a target=\"_blank\" href=https://colab.research.google.com/notebooks/data_table.ipynb>data table notebook</a>'\n",
              "          + ' to learn more about interactive tables.';\n",
              "        element.innerHTML = '';\n",
              "        dataTable['output_type'] = 'display_data';\n",
              "        await google.colab.output.renderOutput(dataTable, element);\n",
              "        const docLink = document.createElement('div');\n",
              "        docLink.innerHTML = docLinkHtml;\n",
              "        element.appendChild(docLink);\n",
              "      }\n",
              "    </script>\n",
              "  </div>\n",
              "\n",
              "\n",
              "<div id=\"df-5cb5adcd-b3da-4b8f-a8f2-4c4a106412f5\">\n",
              "  <button class=\"colab-df-quickchart\" onclick=\"quickchart('df-5cb5adcd-b3da-4b8f-a8f2-4c4a106412f5')\"\n",
              "            title=\"Suggest charts\"\n",
              "            style=\"display:none;\">\n",
              "\n",
              "<svg xmlns=\"http://www.w3.org/2000/svg\" height=\"24px\"viewBox=\"0 0 24 24\"\n",
              "     width=\"24px\">\n",
              "    <g>\n",
              "        <path d=\"M19 3H5c-1.1 0-2 .9-2 2v14c0 1.1.9 2 2 2h14c1.1 0 2-.9 2-2V5c0-1.1-.9-2-2-2zM9 17H7v-7h2v7zm4 0h-2V7h2v10zm4 0h-2v-4h2v4z\"/>\n",
              "    </g>\n",
              "</svg>\n",
              "  </button>\n",
              "\n",
              "<style>\n",
              "  .colab-df-quickchart {\n",
              "      --bg-color: #E8F0FE;\n",
              "      --fill-color: #1967D2;\n",
              "      --hover-bg-color: #E2EBFA;\n",
              "      --hover-fill-color: #174EA6;\n",
              "      --disabled-fill-color: #AAA;\n",
              "      --disabled-bg-color: #DDD;\n",
              "  }\n",
              "\n",
              "  [theme=dark] .colab-df-quickchart {\n",
              "      --bg-color: #3B4455;\n",
              "      --fill-color: #D2E3FC;\n",
              "      --hover-bg-color: #434B5C;\n",
              "      --hover-fill-color: #FFFFFF;\n",
              "      --disabled-bg-color: #3B4455;\n",
              "      --disabled-fill-color: #666;\n",
              "  }\n",
              "\n",
              "  .colab-df-quickchart {\n",
              "    background-color: var(--bg-color);\n",
              "    border: none;\n",
              "    border-radius: 50%;\n",
              "    cursor: pointer;\n",
              "    display: none;\n",
              "    fill: var(--fill-color);\n",
              "    height: 32px;\n",
              "    padding: 0;\n",
              "    width: 32px;\n",
              "  }\n",
              "\n",
              "  .colab-df-quickchart:hover {\n",
              "    background-color: var(--hover-bg-color);\n",
              "    box-shadow: 0 1px 2px rgba(60, 64, 67, 0.3), 0 1px 3px 1px rgba(60, 64, 67, 0.15);\n",
              "    fill: var(--button-hover-fill-color);\n",
              "  }\n",
              "\n",
              "  .colab-df-quickchart-complete:disabled,\n",
              "  .colab-df-quickchart-complete:disabled:hover {\n",
              "    background-color: var(--disabled-bg-color);\n",
              "    fill: var(--disabled-fill-color);\n",
              "    box-shadow: none;\n",
              "  }\n",
              "\n",
              "  .colab-df-spinner {\n",
              "    border: 2px solid var(--fill-color);\n",
              "    border-color: transparent;\n",
              "    border-bottom-color: var(--fill-color);\n",
              "    animation:\n",
              "      spin 1s steps(1) infinite;\n",
              "  }\n",
              "\n",
              "  @keyframes spin {\n",
              "    0% {\n",
              "      border-color: transparent;\n",
              "      border-bottom-color: var(--fill-color);\n",
              "      border-left-color: var(--fill-color);\n",
              "    }\n",
              "    20% {\n",
              "      border-color: transparent;\n",
              "      border-left-color: var(--fill-color);\n",
              "      border-top-color: var(--fill-color);\n",
              "    }\n",
              "    30% {\n",
              "      border-color: transparent;\n",
              "      border-left-color: var(--fill-color);\n",
              "      border-top-color: var(--fill-color);\n",
              "      border-right-color: var(--fill-color);\n",
              "    }\n",
              "    40% {\n",
              "      border-color: transparent;\n",
              "      border-right-color: var(--fill-color);\n",
              "      border-top-color: var(--fill-color);\n",
              "    }\n",
              "    60% {\n",
              "      border-color: transparent;\n",
              "      border-right-color: var(--fill-color);\n",
              "    }\n",
              "    80% {\n",
              "      border-color: transparent;\n",
              "      border-right-color: var(--fill-color);\n",
              "      border-bottom-color: var(--fill-color);\n",
              "    }\n",
              "    90% {\n",
              "      border-color: transparent;\n",
              "      border-bottom-color: var(--fill-color);\n",
              "    }\n",
              "  }\n",
              "</style>\n",
              "\n",
              "  <script>\n",
              "    async function quickchart(key) {\n",
              "      const quickchartButtonEl =\n",
              "        document.querySelector('#' + key + ' button');\n",
              "      quickchartButtonEl.disabled = true;  // To prevent multiple clicks.\n",
              "      quickchartButtonEl.classList.add('colab-df-spinner');\n",
              "      try {\n",
              "        const charts = await google.colab.kernel.invokeFunction(\n",
              "            'suggestCharts', [key], {});\n",
              "      } catch (error) {\n",
              "        console.error('Error during call to suggestCharts:', error);\n",
              "      }\n",
              "      quickchartButtonEl.classList.remove('colab-df-spinner');\n",
              "      quickchartButtonEl.classList.add('colab-df-quickchart-complete');\n",
              "    }\n",
              "    (() => {\n",
              "      let quickchartButtonEl =\n",
              "        document.querySelector('#df-5cb5adcd-b3da-4b8f-a8f2-4c4a106412f5 button');\n",
              "      quickchartButtonEl.style.display =\n",
              "        google.colab.kernel.accessAllowed ? 'block' : 'none';\n",
              "    })();\n",
              "  </script>\n",
              "</div>\n",
              "\n",
              "    </div>\n",
              "  </div>\n"
            ],
            "application/vnd.google.colaboratory.intrinsic+json": {
              "type": "dataframe",
              "variable_name": "TRAIN",
              "summary": "{\n  \"name\": \"TRAIN\",\n  \"rows\": 5000,\n  \"fields\": [\n    {\n      \"column\": \"Product Name\",\n      \"properties\": {\n        \"dtype\": \"category\",\n        \"num_unique_values\": 1541,\n        \"samples\": [\n          \"HTC Evo 4G LTE 16GB Sprint CDMA Dual-Core Android Smartphone w/ Beats Audio Sound and Built-in kickstand - Black\",\n          \"HTC One A9 16GB Opal Silver, Unlocked International Version, No Warranty\",\n          \"Emporia Telme F210 (Unlocked) Senior Elderly Big Button GSM Cellular Phone\"\n        ],\n        \"semantic_type\": \"\",\n        \"description\": \"\"\n      }\n    },\n    {\n      \"column\": \"Brand Name\",\n      \"properties\": {\n        \"dtype\": \"category\",\n        \"num_unique_values\": 132,\n        \"samples\": [\n          \"Asus\",\n          \"Sudroid\",\n          \"Sony Ericsson Mobile\"\n        ],\n        \"semantic_type\": \"\",\n        \"description\": \"\"\n      }\n    },\n    {\n      \"column\": \"Price\",\n      \"properties\": {\n        \"dtype\": \"number\",\n        \"std\": 277.8467820839613,\n        \"min\": 1.73,\n        \"max\": 2224.0,\n        \"num_unique_values\": 816,\n        \"samples\": [\n          309.99,\n          394.98,\n          83.88\n        ],\n        \"semantic_type\": \"\",\n        \"description\": \"\"\n      }\n    },\n    {\n      \"column\": \"Rating\",\n      \"properties\": {\n        \"dtype\": \"number\",\n        \"std\": 1,\n        \"min\": 1,\n        \"max\": 5,\n        \"num_unique_values\": 5,\n        \"samples\": [\n          5,\n          3,\n          1\n        ],\n        \"semantic_type\": \"\",\n        \"description\": \"\"\n      }\n    },\n    {\n      \"column\": \"Reviews\",\n      \"properties\": {\n        \"dtype\": \"string\",\n        \"num_unique_values\": 4518,\n        \"samples\": [\n          \"Not a good phone.\",\n          \"A little less solid than I ad hoped\",\n          \"Picture quality poor. Phone speaker have issues. But apart from its ok\"\n        ],\n        \"semantic_type\": \"\",\n        \"description\": \"\"\n      }\n    },\n    {\n      \"column\": \"Review Votes\",\n      \"properties\": {\n        \"dtype\": \"number\",\n        \"std\": 8.535635489577551,\n        \"min\": 0.0,\n        \"max\": 279.0,\n        \"num_unique_values\": 55,\n        \"samples\": [\n          68.0,\n          8.0,\n          251.0\n        ],\n        \"semantic_type\": \"\",\n        \"description\": \"\"\n      }\n    }\n  ]\n}"
            }
          },
          "metadata": {},
          "execution_count": 4
        }
      ],
      "source": [
        "TRAIN.head()"
      ]
    },
    {
      "cell_type": "code",
      "execution_count": 5,
      "metadata": {
        "colab": {
          "base_uri": "https://localhost:8080/"
        },
        "id": "HkxePPQn9C0V",
        "outputId": "fa2f1173-e8a1-4d42-ce79-35a5096430e8"
      },
      "outputs": [
        {
          "output_type": "stream",
          "name": "stderr",
          "text": [
            "[nltk_data] Downloading package wordnet to /root/nltk_data...\n",
            "[nltk_data] Downloading package words to /root/nltk_data...\n",
            "[nltk_data]   Unzipping corpora/words.zip.\n"
          ]
        }
      ],
      "source": [
        "nltk.download('wordnet')\n",
        "nltk.download('words')\n",
        "WNlemma =nltk.WordNetLemmatizer()"
      ]
    },
    {
      "cell_type": "code",
      "execution_count": 6,
      "metadata": {
        "id": "PuH5fATFvgXJ"
      },
      "outputs": [],
      "source": [
        "custom_stop_words = [ 'the', 'and', 'is', 'in', 'it', 'of', 'to', 'a', 'that', 'was', 'for', 'with' 'by', 'at', 'this', 'but', 'from']"
      ]
    },
    {
      "cell_type": "code",
      "execution_count": 7,
      "metadata": {
        "id": "_G52nuDRGBYh"
      },
      "outputs": [],
      "source": [
        "#This code is taken fro the NLP slides, it deletes repeated unecessary characters in words\n",
        "class RepeatReplacer:\n",
        "    def __init__(self):\n",
        "        self.repeat_regexp = re.compile(r'(\\w*)(\\w)\\2(\\w*)')\n",
        "        self.repl = r'\\1\\2\\3'\n",
        "\n",
        "    def replace(self, word):\n",
        "        valid_words = set(words.words())\n",
        "        if word in valid_words:\n",
        "            return word\n",
        "        # Remove repeated characters\n",
        "        repl_word = self.repeat_regexp.sub(self.repl, word)\n",
        "        if repl_word != word:\n",
        "            return self.replace(repl_word)\n",
        "        else:\n",
        "            return repl_word\n"
      ]
    },
    {
      "cell_type": "code",
      "execution_count": 8,
      "metadata": {
        "id": "eOcQUcVSsUXq"
      },
      "outputs": [],
      "source": [
        "#Create a preprocessor that transforms emojis; uses lemmatization, lowers the fonts and manages dates\n",
        "#ONLY FOR THE REVIEWS COLUMN\n",
        "\n",
        "def my_preprocessor(text):\n",
        "    processed_words = []\n",
        "\n",
        "    #We apply the emoji demojize function to all the text\n",
        "    text= emoji.demojize(text)\n",
        "    #We lower all the characters in text\n",
        "    text.lower()\n",
        "    #We split the text to get the words\n",
        "    words_list = text.split()\n",
        "\n",
        "\n",
        "\n",
        "    for word in words_list:\n",
        "        #We were going to remove the repeated characters but it takes 80 years fitting\n",
        "        #word = replacer.replace(word)\n",
        "\n",
        "        #We lemmatize the words\n",
        "        word = WNlemma.lemmatize(word)\n",
        "        #Then e append them to a list\n",
        "        processed_words.append(word)\n",
        "\n",
        "    text = ' '.join(processed_words)\n",
        "    return text\n",
        "\n",
        "#replacer = RepeatReplacer()\n"
      ]
    },
    {
      "cell_type": "code",
      "execution_count": 9,
      "metadata": {
        "colab": {
          "base_uri": "https://localhost:8080/"
        },
        "id": "ES3g9YaFs9J3",
        "outputId": "3d053c13-45bb-4e6e-af08-633de4738ae9"
      },
      "outputs": [
        {
          "output_type": "stream",
          "name": "stdout",
          "text": [
            "I love it!!! I absolutely love it!! :OK_hand::thumbs_up:\n"
          ]
        }
      ],
      "source": [
        "#We check how our function looks like\n",
        "textico = my_preprocessor(TRAIN.iloc[0]['Reviews'])\n",
        "print(textico)"
      ]
    },
    {
      "cell_type": "code",
      "execution_count": 10,
      "metadata": {
        "id": "ElpLbztfF9LW"
      },
      "outputs": [],
      "source": [
        "#We change the ys adding the groups given in the instructions, 1\n",
        "TRAIN['Review Votes'] = TRAIN['Review Votes'].apply(lambda x: 0 if x <= 2 else 1)\n",
        "TEST['Review Votes'] = TEST['Review Votes'].apply(lambda x: 0 if x <= 2 else 1)"
      ]
    },
    {
      "cell_type": "code",
      "execution_count": 11,
      "metadata": {
        "id": "5F4ieGfFK5KK"
      },
      "outputs": [],
      "source": [
        "#We take the respective y and X values; the revie votes is what we're trying to predict\n",
        "y_train = TRAIN['Review Votes']\n",
        "X_train = TRAIN['Reviews']\n",
        "\n",
        "y_test = TEST['Review Votes']\n",
        "X_test = TEST['Reviews']"
      ]
    },
    {
      "cell_type": "code",
      "execution_count": 12,
      "metadata": {
        "colab": {
          "base_uri": "https://localhost:8080/"
        },
        "id": "u8T6A1MiYEla",
        "outputId": "cb55b667-186e-4c12-82dc-ed199231f74a"
      },
      "outputs": [
        {
          "output_type": "execute_result",
          "data": {
            "text/plain": [
              "((5000,), (5000,), (1000,), (1000,))"
            ]
          },
          "metadata": {},
          "execution_count": 12
        }
      ],
      "source": [
        "#We check the shapes of our training and testing sets\n",
        "y_train.shape, X_train.shape, y_test.shape, X_test.shape"
      ]
    },
    {
      "cell_type": "markdown",
      "metadata": {
        "id": "g6Tw6SGLs9fd"
      },
      "source": [
        "Pipeline"
      ]
    },
    {
      "cell_type": "code",
      "execution_count": 13,
      "metadata": {
        "id": "rtljfau9HBi5"
      },
      "outputs": [],
      "source": [
        "X_train = X_train.dropna()\n",
        "X_test = X_test.dropna()\n",
        "y_train = y_train[X_train.index]\n",
        "y_test = y_test[X_test.index]"
      ]
    },
    {
      "cell_type": "code",
      "execution_count": 14,
      "metadata": {
        "id": "Dol3qFfnafpl"
      },
      "outputs": [],
      "source": [
        "#We create the pipeline passing my_preprocessor as the TdifVectorizer preprocessor and use logistic regression for its classification\n",
        "pipeline = Pipeline(steps=[ ('vectorizer', TfidfVectorizer(preprocessor=my_preprocessor, token_pattern=r'\\b\\w+\\b', analyzer='word')),\n",
        "                    ('classifier', LogisticRegression()) ])"
      ]
    },
    {
      "cell_type": "markdown",
      "metadata": {
        "id": "1zsfbSCO9GMO"
      },
      "source": [
        "Training"
      ]
    },
    {
      "cell_type": "code",
      "execution_count": 15,
      "metadata": {
        "colab": {
          "base_uri": "https://localhost:8080/"
        },
        "id": "UnrIWPJhiVfx",
        "outputId": "649b6a6f-0ab2-4a25-acdc-6b75e949fcf0"
      },
      "outputs": [
        {
          "output_type": "stream",
          "name": "stdout",
          "text": [
            "F1 Score: 0.8339292831886853\n"
          ]
        }
      ],
      "source": [
        "# Fit the pipeline on the training data\n",
        "pipeline.fit(X_train, y_train)\n",
        "\n",
        "# Make predictions\n",
        "y_pred = pipeline.predict(X_test)\n",
        "\n",
        "f1 = f1_score(y_test, y_pred, average='weighted')\n",
        "print(f'F1 Score: {f1}')"
      ]
    },
    {
      "cell_type": "markdown",
      "metadata": {
        "id": "TnUTHoN-ImmV"
      },
      "source": [
        "##Trying different parameters"
      ]
    },
    {
      "cell_type": "code",
      "execution_count": 16,
      "metadata": {
        "id": "6xfwAjrKJEhU"
      },
      "outputs": [],
      "source": [
        "params = {\n",
        "    'tfidf__stop_words': [None, 'english',custom_stop_words],\n",
        "    'tfidf__max_df': [1.0, 0.5],\n",
        "    'tfidf__min_df': [1, 50],\n",
        "    'tfidf__ngram_range': [(1, 1), (1, 3)],\n",
        "    'tfidf__max_features': [None, 100, 1000],\n",
        "    'clf__class_weight': [None, 'balanced']\n",
        "}"
      ]
    },
    {
      "cell_type": "code",
      "execution_count": 17,
      "metadata": {
        "colab": {
          "base_uri": "https://localhost:8080/",
          "height": 107
        },
        "id": "8dmNx_1EIM1p",
        "outputId": "dbb32f3e-a51f-4400-e515-4081b7e2f95f"
      },
      "outputs": [
        {
          "output_type": "execute_result",
          "data": {
            "text/plain": [
              "'#We create the grid search with our pipeline and parameters, with the goal being the best F1 Score\\ngrid_search = GridSearchCV(pipeline, params, scoring=\\'f1\\', cv=3, verbose=2, n_jobs=-1)\\ngrid_search.fit(X_train, y_train)\\n\\n#We get the best model and predict with it\\nbest_model = grid_search.best_estimator_\\ny_pred = best_model.predict(X_test)\\n\\nprint(\"Best Parameters:\", grid_search.best_params_)\\nprint(\"\\nClassification Report:\\n\", classification_report(y_test, y_pred))\\nprint(\"F1 Score:\", f1_score(y_test, y_pred))'"
            ],
            "application/vnd.google.colaboratory.intrinsic+json": {
              "type": "string"
            }
          },
          "metadata": {},
          "execution_count": 17
        }
      ],
      "source": [
        "'''#We create the grid search with our pipeline and parameters, with the goal being the best F1 Score\n",
        "grid_search = GridSearchCV(pipeline, params, scoring='f1', cv=3, verbose=2, n_jobs=-1)\n",
        "grid_search.fit(X_train, y_train)\n",
        "\n",
        "#We get the best model and predict with it\n",
        "best_model = grid_search.best_estimator_\n",
        "y_pred = best_model.predict(X_test)\n",
        "\n",
        "print(\"Best Parameters:\", grid_search.best_params_)\n",
        "print(\"\\nClassification Report:\\n\", classification_report(y_test, y_pred))\n",
        "print(\"F1 Score:\", f1_score(y_test, y_pred))'''"
      ]
    },
    {
      "cell_type": "markdown",
      "metadata": {
        "id": "UyYeOUojjwMQ"
      },
      "source": [
        "We get an error this is because of the values of max_df and min_df, so we relax them."
      ]
    },
    {
      "cell_type": "code",
      "execution_count": 20,
      "metadata": {
        "colab": {
          "base_uri": "https://localhost:8080/"
        },
        "id": "989lAAUdKSMs",
        "outputId": "52b5fe46-8299-46ef-c2cb-946d21a6d42b"
      },
      "outputs": [
        {
          "metadata": {
            "tags": null
          },
          "name": "stdout",
          "output_type": "stream",
          "text": [
            "Fitting 3 folds for each of 192 candidates, totalling 576 fits\n"
          ]
        },
        {
          "output_type": "stream",
          "name": "stderr",
          "text": [
            "/usr/local/lib/python3.10/dist-packages/sklearn/feature_extraction/text.py:402: UserWarning: Your stop_words may be inconsistent with your preprocessing. Tokenizing the stop words generated tokens ['wa'] not in stop_words.\n",
            "  warnings.warn(\n"
          ]
        },
        {
          "output_type": "stream",
          "name": "stdout",
          "text": [
            "Best Parameters: {'classifier__C': 0.7, 'classifier__class_weight': {0: 1, 1: 2}, 'vectorizer__max_df': 1.0, 'vectorizer__min_df': 1, 'vectorizer__ngram_range': (1, 3), 'vectorizer__stop_words': ['the', 'and', 'is', 'in', 'it', 'of', 'to', 'a', 'that', 'was', 'for', 'withby', 'at', 'this', 'but', 'from']}\n",
            "\n",
            "Classification Report:\n",
            "               precision    recall  f1-score   support\n",
            "\n",
            "           0       0.89      0.97      0.93       863\n",
            "           1       0.56      0.26      0.36       137\n",
            "\n",
            "    accuracy                           0.87      1000\n",
            "   macro avg       0.73      0.62      0.64      1000\n",
            "weighted avg       0.85      0.87      0.85      1000\n",
            "\n",
            "F1 Score: 0.8501919142475506\n"
          ]
        }
      ],
      "source": [
        "\n",
        "params = {\n",
        "    'vectorizer__stop_words': [None, 'english', custom_stop_words],\n",
        "    'vectorizer__max_df': [1.0, 0.9],\n",
        "    'vectorizer__min_df': [1, 10],\n",
        "    'vectorizer__ngram_range': [(1, 1), (1,3)],\n",
        "    'classifier__class_weight': [None, 'balanced',{0: 1, 1: 2}, {0: 2, 1: 1}],\n",
        "    'classifier__C': [0.7, 7.0]\n",
        "}\n",
        "\n",
        "# We create the grid search with our pipeline and parameters, with the goal being the best F1 Score\n",
        "grid_search = GridSearchCV(pipeline, params, scoring='f1_weighted', cv=3, verbose=2, n_jobs=-1)\n",
        "grid_search.fit(X_train, y_train)\n",
        "\n",
        "# We get the best model and predict with it\n",
        "best_model = grid_search.best_estimator_\n",
        "y_pred = best_model.predict(X_test)\n",
        "\n",
        "print(\"Best Parameters:\", grid_search.best_params_)\n",
        "print(\"\\nClassification Report:\\n\", classification_report(y_test, y_pred))\n",
        "print(\"F1 Score:\", f1_score(y_test, y_pred, average='weighted'))\n"
      ]
    },
    {
      "cell_type": "markdown",
      "metadata": {
        "id": "NdZszc75IFZK"
      },
      "source": [
        "Looking at the f1 score we see with grid search it gets higher. Regarding the parameters we  can observe that since for our model we used unbalanced data the class weight parameter improves the model results a lot, sal with the parameters for the vectorizer. We can conclude from this that we can also improve the scores even more by adding more parameters, the parameters are really important and crucial for the results and by implementing the repeated words class in the text processing we will ensure getting better F1 Scores."
      ]
    }
  ],
  "metadata": {
    "colab": {
      "provenance": [],
      "toc_visible": true
    },
    "kernelspec": {
      "display_name": "Python 3",
      "name": "python3"
    },
    "language_info": {
      "name": "python"
    }
  },
  "nbformat": 4,
  "nbformat_minor": 0
}